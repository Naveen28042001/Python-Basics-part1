{
 "cells": [
  {
   "cell_type": "code",
   "execution_count": null,
   "id": "3299360f-8266-4f9f-ac42-ff5a5293e1a9",
   "metadata": {},
   "outputs": [],
   "source": [
    "1.Who developed python programming language?\n",
    "\n",
    "\"Guido Van Rossum\" developed python programming language on February 20,1991."
   ]
  },
  {
   "cell_type": "code",
   "execution_count": null,
   "id": "0bcfad0b-8b3b-4313-8222-b719d566b570",
   "metadata": {},
   "outputs": [],
   "source": [
    "2.Which type of programming does pyhton support?\n",
    "\n",
    "Python is an interpreted programming language, supporting object-oriented, structured, and functional programming."
   ]
  },
  {
   "cell_type": "code",
   "execution_count": null,
   "id": "cf41e95c-6617-48e7-abbe-743a4fb19822",
   "metadata": {},
   "outputs": [],
   "source": [
    "3.Is python case sensitive when dealing with identifiers?\n",
    "\n",
    "Yes, python is case sensitive when dealing with identifiers.\n"
   ]
  },
  {
   "cell_type": "code",
   "execution_count": null,
   "id": "fecbc362-a968-4629-8b43-75c3d65f6fb2",
   "metadata": {},
   "outputs": [],
   "source": [
    "4.what is the correct extension of the python file?\n",
    "\n",
    "\"-.py\" is the correct extension of the python file."
   ]
  },
  {
   "cell_type": "code",
   "execution_count": null,
   "id": "1d433f15-513b-4618-a6b4-b9f6e0adce52",
   "metadata": {},
   "outputs": [],
   "source": [
    "5.Is python code compiled or interpreted?\n",
    "\n",
    "python code is \"interpreted\", which means the source code of a Python program is converted into bytecode that is then executed by the Python virtual machine."
   ]
  },
  {
   "cell_type": "code",
   "execution_count": null,
   "id": "a21331f0-a4ea-4559-97c1-1c59df11286b",
   "metadata": {},
   "outputs": [],
   "source": [
    "6.Name a few blocks of code used to define in python language?\n",
    "\n",
    "\"A module, a function body, and a class definition\" are the blocs of code used to define in python language.\n"
   ]
  },
  {
   "cell_type": "code",
   "execution_count": null,
   "id": "7007991b-c949-419c-a7c8-143747a26598",
   "metadata": {},
   "outputs": [],
   "source": [
    "7.State a character used to give single-line comments in python?\n",
    "\n",
    "\"#\" is used to give single line comments in python."
   ]
  },
  {
   "cell_type": "code",
   "execution_count": null,
   "id": "51bfae90-dde5-436a-a787-d74c63742e64",
   "metadata": {},
   "outputs": [],
   "source": [
    "8.Mention functions which can help us to find the version  of pyhton that we are currently working on?\n",
    "\n",
    "The function \"sys. version\" can help us to find the version of python that we are currently working on."
   ]
  },
  {
   "cell_type": "code",
   "execution_count": null,
   "id": "e4a774e3-6c6d-428e-b405-b15344c23516",
   "metadata": {},
   "outputs": [],
   "source": [
    "9.Python supports the creation of anonymous functions at a runtime, using a construct called \"lambda\".\n"
   ]
  },
  {
   "cell_type": "code",
   "execution_count": null,
   "id": "3d607304-b836-4f5c-a539-238d04f07125",
   "metadata": {},
   "outputs": [],
   "source": [
    "10.What does pip stands for python?\n",
    "\n",
    "pip - Preffered Installer Program"
   ]
  },
  {
   "cell_type": "code",
   "execution_count": null,
   "id": "7955825a-3129-488d-afa9-b840d58a9a85",
   "metadata": {},
   "outputs": [],
   "source": [
    "11.Mention a few built-in function is python?\n",
    "\n",
    "print(),str(),int(),float(),min(),max(),len(),range(),type(),sorted(),sum(),pow(),open(),id(), etc.."
   ]
  },
  {
   "cell_type": "code",
   "execution_count": null,
   "id": "a9c94c00-2cfe-4811-a891-df8dd9ad5cdb",
   "metadata": {},
   "outputs": [],
   "source": [
    "12.What is the maximum possible length of an identifiers in python?\n",
    "\n",
    "An identifier can have a maximum length of 79 characters in Python."
   ]
  },
  {
   "cell_type": "code",
   "execution_count": null,
   "id": "55fa1a51-b773-4c16-abaa-3db27a7b84c6",
   "metadata": {},
   "outputs": [],
   "source": [
    "13.What are the benefits of using python?\n",
    "\n",
    "Presence of third-party modules.\n",
    "Extensive support libraries(NumPy for numerical calculations, Pandas for data analytics, etc.)\n",
    "Open source and large active community base.\n",
    "Versatile, Easy to read, learn and write.\n",
    "User-friendly data structures.\n",
    "High-level language."
   ]
  },
  {
   "cell_type": "code",
   "execution_count": null,
   "id": "92bd8f9e-a5d4-4b7f-9748-ac39810516ae",
   "metadata": {},
   "outputs": [],
   "source": [
    "14.How is memory managed in python?\n",
    "Memory management in Python involves a private heap containing all Python objects and data structures. The management of this private heap is ensured internally by the Python memory manager."
   ]
  },
  {
   "cell_type": "code",
   "execution_count": null,
   "id": "96aa5c40-2ed8-4056-ab24-903a84abe081",
   "metadata": {},
   "outputs": [],
   "source": [
    "15.How to install python on windows and set path variables?\n",
    "\n",
    "steps to install python:\n",
    "    \n",
    "1.Visit the official download page for Python on the Windows operating system.\n",
    "2.Locate a reliable version of Python 3, preferably version 3.10.11, which was used in testing this tutorial.\n",
    "3.Choose the correct link for your device from the options provided: either Windows installer (64-bit) or Windows installer (32-bit) and proceed to download the executable file.\n",
    "\n",
    "Steps to add Python to PATH:\n",
    "Below are the steps we must take to add python to our PATH variable.\n",
    "\n",
    "First, we must find the directory where we installed Python. A typical installation would have the following path, C:\\Users\\MyUserName\\AppData\\Local\\Programs\\Python\\Python310\n",
    "\n",
    "Now, we will need to add this to the PATH variable, we right click on \"This PC\" and go to \"Properties\".\n",
    "\n",
    "Then, we click on the \"Advanced system settings\" in the menu on the left.going\n",
    "\n",
    "In the bottom right, we can see a button labeled \"Environment Variables\". We will click on it to open another window to edit these variables.\n",
    "\n",
    "Now, we select the \"Path variable\" in the \"System variables\" section and click \"Edit\". The next screen will show all the directories currently part of the PATH variable.\n",
    "\n",
    "Another window opens up where we can see all the paths for the currently configured system variables. To add a new path for our Python program, we will click on the \"New\" button on the right side and paste the path in Step 1\n",
    "\n",
    "We have successfully added the path for our Python program to our system's environment variables. The best practice is to restart the system afterward for the change to occur.\n",
    "\n",
    "Now, we can verify if the PATH variable was configured correctly by opening up the terminal and entering the command python --version."
   ]
  },
  {
   "cell_type": "code",
   "execution_count": null,
   "id": "22d2b991-e403-42fb-9508-a76af0b53c0c",
   "metadata": {},
   "outputs": [],
   "source": [
    "16.Is identation required in python?\n",
    "Yes, identation is required in pyhton"
   ]
  },
  {
   "cell_type": "code",
   "execution_count": null,
   "id": "e047703d-7e5f-47fd-a03c-034ef9b22f48",
   "metadata": {},
   "outputs": [],
   "source": []
  }
 ],
 "metadata": {
  "kernelspec": {
   "display_name": "Python 3 (ipykernel)",
   "language": "python",
   "name": "python3"
  },
  "language_info": {
   "codemirror_mode": {
    "name": "ipython",
    "version": 3
   },
   "file_extension": ".py",
   "mimetype": "text/x-python",
   "name": "python",
   "nbconvert_exporter": "python",
   "pygments_lexer": "ipython3",
   "version": "3.10.8"
  }
 },
 "nbformat": 4,
 "nbformat_minor": 5
}
